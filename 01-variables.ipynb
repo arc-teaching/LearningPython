{
 "cells": [
  {
   "cell_type": "markdown",
   "id": "47540b82-ca7d-4cb8-85ab-c9c08817eb66",
   "metadata": {},
   "source": [
    "# Variables\n",
    "\n",
    "This is the first notebook of this course\n",
    "\n",
    "We **are** learning ~~matlab~~ *python* using _jupyer_ notebooks"
   ]
  },
  {
   "cell_type": "code",
   "execution_count": 1,
   "id": "2c15aac6-87b6-4563-9dae-67ee9711efd5",
   "metadata": {},
   "outputs": [],
   "source": [
    "weight_kg = 55"
   ]
  },
  {
   "cell_type": "code",
   "execution_count": 2,
   "id": "ca28867c-a31d-40dc-96f4-b1f902a03152",
   "metadata": {},
   "outputs": [
    {
     "name": "stdout",
     "output_type": "stream",
     "text": [
      "55\n"
     ]
    }
   ],
   "source": [
    "print(weight_kg)"
   ]
  },
  {
   "cell_type": "code",
   "execution_count": 3,
   "id": "8baad6fb-7194-4781-b83c-f2242071d55b",
   "metadata": {},
   "outputs": [
    {
     "name": "stdout",
     "output_type": "stream",
     "text": [
      "weight in pounds 121.00000000000001\n"
     ]
    }
   ],
   "source": [
    "print(\"weight in pounds\", 2.2 * weight_kg)"
   ]
  },
  {
   "cell_type": "code",
   "execution_count": 4,
   "id": "cd41a363-a784-441a-a9c7-d095edff41ca",
   "metadata": {},
   "outputs": [
    {
     "name": "stdout",
     "output_type": "stream",
     "text": [
      "weight in kg: 55 and in lb: 121.00000000000001\n"
     ]
    }
   ],
   "source": [
    "weight_lb = 2.2 * weight_kg\n",
    "print(\"weight in kg:\", weight_kg, \"and in lb:\", weight_lb)"
   ]
  },
  {
   "cell_type": "code",
   "execution_count": 5,
   "id": "280a5afb-423c-461f-9542-c3f762e36f25",
   "metadata": {},
   "outputs": [
    {
     "name": "stdout",
     "output_type": "stream",
     "text": [
      "weight in kg is now 100  and weight in lb is now 121.00000000000001\n"
     ]
    }
   ],
   "source": [
    "weight_kg = 100\n",
    "print(\"weight in kg is now\", weight_kg, \" and weight in lb is now\", weight_lb)"
   ]
  },
  {
   "cell_type": "code",
   "execution_count": null,
   "id": "91fcd9dd-0d1d-4a5d-b534-16f13080c703",
   "metadata": {},
   "outputs": [],
   "source": []
  }
 ],
 "metadata": {
  "kernelspec": {
   "display_name": "Python 3 (ipykernel)",
   "language": "python",
   "name": "python3"
  },
  "language_info": {
   "codemirror_mode": {
    "name": "ipython",
    "version": 3
   },
   "file_extension": ".py",
   "mimetype": "text/x-python",
   "name": "python",
   "nbconvert_exporter": "python",
   "pygments_lexer": "ipython3",
   "version": "3.10.6"
  }
 },
 "nbformat": 4,
 "nbformat_minor": 5
}
