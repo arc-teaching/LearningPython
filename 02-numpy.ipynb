{
 "cells": [
  {
   "cell_type": "markdown",
   "id": "78961125-28c7-4f7f-ab89-1acfd18a9a5f",
   "metadata": {},
   "source": [
    "# Libraries for scientific research"
   ]
  },
  {
   "cell_type": "code",
   "execution_count": 1,
   "id": "1a558630-bd2c-4f47-85b3-c123cc93ad2e",
   "metadata": {},
   "outputs": [],
   "source": [
    "import numpy"
   ]
  },
  {
   "cell_type": "code",
   "execution_count": 2,
   "id": "0935b151-a610-4422-bf61-7ccfc59c102b",
   "metadata": {},
   "outputs": [
    {
     "ename": "TypeError",
     "evalue": "loadtxt() got an unexpected keyword argument 'delimeter'",
     "output_type": "error",
     "traceback": [
      "\u001b[0;31m---------------------------------------------------------------------------\u001b[0m",
      "\u001b[0;31mTypeError\u001b[0m                                 Traceback (most recent call last)",
      "Input \u001b[0;32mIn [2]\u001b[0m, in \u001b[0;36m<cell line: 1>\u001b[0;34m()\u001b[0m\n\u001b[0;32m----> 1\u001b[0m \u001b[43mnumpy\u001b[49m\u001b[38;5;241;43m.\u001b[39;49m\u001b[43mloadtxt\u001b[49m\u001b[43m(\u001b[49m\u001b[43mfname\u001b[49m\u001b[38;5;241;43m=\u001b[39;49m\u001b[38;5;124;43m'\u001b[39;49m\u001b[38;5;124;43mdata/inflammation-01.csv\u001b[39;49m\u001b[38;5;124;43m'\u001b[39;49m\u001b[43m,\u001b[49m\u001b[43m \u001b[49m\u001b[43mdelimeter\u001b[49m\u001b[38;5;241;43m=\u001b[39;49m\u001b[38;5;124;43m'\u001b[39;49m\u001b[38;5;124;43m,\u001b[39;49m\u001b[38;5;124;43m'\u001b[39;49m\u001b[43m)\u001b[49m\n",
      "\u001b[0;31mTypeError\u001b[0m: loadtxt() got an unexpected keyword argument 'delimeter'"
     ]
    }
   ],
   "source": [
    "numpy.loadtxt(fname='data/inflammation-01.csv', delimeter=',')"
   ]
  },
  {
   "cell_type": "code",
   "execution_count": 3,
   "id": "19651da6-ebf7-4f23-bf2b-a0db7fc4bc37",
   "metadata": {},
   "outputs": [
    {
     "data": {
      "text/plain": [
       "array([[0., 0., 1., ..., 3., 0., 0.],\n",
       "       [0., 1., 2., ..., 1., 0., 1.],\n",
       "       [0., 1., 1., ..., 2., 1., 1.],\n",
       "       ...,\n",
       "       [0., 1., 1., ..., 1., 1., 1.],\n",
       "       [0., 0., 0., ..., 0., 2., 0.],\n",
       "       [0., 0., 1., ..., 1., 1., 0.]])"
      ]
     },
     "execution_count": 3,
     "metadata": {},
     "output_type": "execute_result"
    }
   ],
   "source": [
    "numpy.loadtxt(fname='data/inflammation-01.csv', delimiter=',')"
   ]
  },
  {
   "cell_type": "code",
   "execution_count": 4,
   "id": "8591f03d-4f7b-4ecb-8fa9-8aa6a6a2108b",
   "metadata": {},
   "outputs": [],
   "source": [
    "arthritis = numpy.loadtxt(fname='data/inflammation-01.csv', delimiter=',')"
   ]
  },
  {
   "cell_type": "code",
   "execution_count": 5,
   "id": "01365fe5-6272-473e-ba3f-fbf3061c9f5b",
   "metadata": {},
   "outputs": [
    {
     "name": "stdout",
     "output_type": "stream",
     "text": [
      "[[0. 0. 1. ... 3. 0. 0.]\n",
      " [0. 1. 2. ... 1. 0. 1.]\n",
      " [0. 1. 1. ... 2. 1. 1.]\n",
      " ...\n",
      " [0. 1. 1. ... 1. 1. 1.]\n",
      " [0. 0. 0. ... 0. 2. 0.]\n",
      " [0. 0. 1. ... 1. 1. 0.]]\n"
     ]
    }
   ],
   "source": [
    "print(arthritis)"
   ]
  },
  {
   "cell_type": "code",
   "execution_count": 6,
   "id": "6ebd88d6-5040-4806-a828-be0151fcbb21",
   "metadata": {},
   "outputs": [
    {
     "name": "stdout",
     "output_type": "stream",
     "text": [
      "<class 'numpy.ndarray'>\n"
     ]
    }
   ],
   "source": [
    "print(type(arthritis))"
   ]
  },
  {
   "cell_type": "markdown",
   "id": "180d03e8-d04c-4b06-979f-d0d8967d1b4a",
   "metadata": {},
   "source": [
    "## Attributes (adjetives)"
   ]
  },
  {
   "cell_type": "code",
   "execution_count": 8,
   "id": "61259bb5-87eb-47c7-aa09-40c7f6b4afc6",
   "metadata": {},
   "outputs": [
    {
     "name": "stdout",
     "output_type": "stream",
     "text": [
      "float64\n",
      "(60, 40)\n"
     ]
    }
   ],
   "source": [
    "print(arthritis.dtype)\n",
    "print(arthritis.shape)"
   ]
  },
  {
   "cell_type": "code",
   "execution_count": 10,
   "id": "587a221d-eafa-4616-b0b5-af340ff12575",
   "metadata": {},
   "outputs": [
    {
     "name": "stdout",
     "output_type": "stream",
     "text": [
      "first value in arthritis: 0.0\n"
     ]
    }
   ],
   "source": [
    "print(\"first value in arthritis:\", arthritis[0, 0])"
   ]
  },
  {
   "cell_type": "code",
   "execution_count": 11,
   "id": "f1eccd65-7fd7-44cc-bdb8-e476b2a5c869",
   "metadata": {},
   "outputs": [
    {
     "name": "stdout",
     "output_type": "stream",
     "text": [
      "middle value: 13.0\n"
     ]
    }
   ],
   "source": [
    "print(\"middle value:\", arthritis[30, 20])"
   ]
  },
  {
   "cell_type": "code",
   "execution_count": 12,
   "id": "f6aa9854-68f1-48dd-b589-0fc48e3236a8",
   "metadata": {},
   "outputs": [
    {
     "name": "stdout",
     "output_type": "stream",
     "text": [
      "[[0. 0. 1. 3. 1. 2. 4. 7. 8. 3.]\n",
      " [0. 1. 2. 1. 2. 1. 3. 2. 2. 6.]\n",
      " [0. 1. 1. 3. 3. 2. 6. 2. 5. 9.]\n",
      " [0. 0. 2. 0. 4. 2. 2. 1. 6. 7.]]\n"
     ]
    }
   ],
   "source": [
    "print(arthritis[0:4, 0:10])"
   ]
  },
  {
   "cell_type": "code",
   "execution_count": 13,
   "id": "5679dd84-4e92-48c3-b107-07f9ddf281b3",
   "metadata": {},
   "outputs": [
    {
     "name": "stdout",
     "output_type": "stream",
     "text": [
      "[[0. 0. 1. 2. 2. 4. 2. 1. 6. 4.]\n",
      " [0. 0. 2. 2. 4. 2. 2. 5. 5. 8.]\n",
      " [0. 0. 1. 2. 3. 1. 2. 3. 5. 3.]\n",
      " [0. 0. 0. 3. 1. 5. 6. 5. 5. 8.]\n",
      " [0. 1. 1. 2. 1. 3. 5. 3. 5. 8.]]\n"
     ]
    }
   ],
   "source": [
    "print(arthritis[5:10, 0:10])"
   ]
  },
  {
   "cell_type": "code",
   "execution_count": 14,
   "id": "d017bc8c-49b3-43c5-ab15-a796dd133b0e",
   "metadata": {},
   "outputs": [
    {
     "name": "stdout",
     "output_type": "stream",
     "text": [
      "[[2. 3. 0. 0.]\n",
      " [1. 1. 0. 1.]\n",
      " [2. 2. 1. 1.]]\n"
     ]
    }
   ],
   "source": [
    "corner = arthritis[:3, 36:]\n",
    "print(corner)"
   ]
  },
  {
   "cell_type": "markdown",
   "id": "30cedd29-3567-49bd-9cda-cf5fbd55024c",
   "metadata": {},
   "source": [
    "## Exericise"
   ]
  },
  {
   "cell_type": "code",
   "execution_count": 16,
   "id": "16743edd-2856-4cab-aafd-e29906895c22",
   "metadata": {},
   "outputs": [
    {
     "data": {
      "text/plain": [
       "'xyg'"
      ]
     },
     "execution_count": 16,
     "metadata": {},
     "output_type": "execute_result"
    }
   ],
   "source": [
    "\"oxygen\"[1:4]"
   ]
  },
  {
   "cell_type": "markdown",
   "id": "5cd72faa-7f5e-4ff9-828d-4d9efe5935a9",
   "metadata": {},
   "source": [
    "## Operations"
   ]
  },
  {
   "cell_type": "code",
   "execution_count": 17,
   "id": "930cce75-79bf-434e-b3f5-ac1cf490d648",
   "metadata": {},
   "outputs": [],
   "source": [
    "double_arthritis = arthritis * 2"
   ]
  },
  {
   "cell_type": "code",
   "execution_count": 18,
   "id": "b138360e-6447-4fa3-aca8-fc7a6c92d587",
   "metadata": {},
   "outputs": [
    {
     "name": "stdout",
     "output_type": "stream",
     "text": [
      "original\n",
      "[[2. 3. 0. 0.]\n",
      " [1. 1. 0. 1.]\n",
      " [2. 2. 1. 1.]]\n",
      "double\n",
      "[[4. 6. 0. 0.]\n",
      " [2. 2. 0. 2.]\n",
      " [4. 4. 2. 2.]]\n"
     ]
    }
   ],
   "source": [
    "print(\"original\")\n",
    "print(arthritis[:3, 36:])\n",
    "print(\"double\")\n",
    "print(double_arthritis[:3, 36:])"
   ]
  },
  {
   "cell_type": "code",
   "execution_count": 19,
   "id": "6198c7f2-3150-4f74-979f-0fabd0ba41dc",
   "metadata": {},
   "outputs": [
    {
     "name": "stdout",
     "output_type": "stream",
     "text": [
      "[[6. 9. 0. 0.]\n",
      " [3. 3. 0. 3.]\n",
      " [6. 6. 3. 3.]]\n"
     ]
    }
   ],
   "source": [
    "triple_arthritis = double_arthritis + arthritis\n",
    "print(triple_arthritis[:3, 36:])"
   ]
  },
  {
   "cell_type": "markdown",
   "id": "87586718-3fe6-4b9f-8b85-446698dadd97",
   "metadata": {},
   "source": [
    "# Methods (verbs)"
   ]
  },
  {
   "cell_type": "code",
   "execution_count": 20,
   "id": "569b15fe-e4d0-4ae6-8d7a-760b6b3f7b00",
   "metadata": {},
   "outputs": [
    {
     "name": "stdout",
     "output_type": "stream",
     "text": [
      "6.14875\n"
     ]
    }
   ],
   "source": [
    "print(arthritis.mean())"
   ]
  },
  {
   "cell_type": "code",
   "execution_count": 21,
   "id": "603f213c-f9ab-44c2-9bb0-7579086cca74",
   "metadata": {},
   "outputs": [
    {
     "name": "stdout",
     "output_type": "stream",
     "text": [
      "maximum inflammation: 20.0\n",
      "minimum inflammation: 0.0\n",
      "standard deviation: 4.613833197118566\n"
     ]
    }
   ],
   "source": [
    "print(\"maximum inflammation:\", arthritis.max())\n",
    "print(\"minimum inflammation:\", arthritis.min())\n",
    "print(\"standard deviation:\", arthritis.std())"
   ]
  },
  {
   "cell_type": "code",
   "execution_count": 22,
   "id": "c96ea125-f11a-4839-a4cb-c973fd6425a9",
   "metadata": {},
   "outputs": [
    {
     "data": {
      "text/plain": [
       "2400"
      ]
     },
     "execution_count": 22,
     "metadata": {},
     "output_type": "execute_result"
    }
   ],
   "source": [
    "arthritis.size"
   ]
  },
  {
   "cell_type": "code",
   "execution_count": 23,
   "id": "5d787cc2-8beb-4f18-a802-0c72468be29c",
   "metadata": {},
   "outputs": [
    {
     "name": "stdout",
     "output_type": "stream",
     "text": [
      "maximum inflammation for patient 0: 18.0\n"
     ]
    }
   ],
   "source": [
    "patient_0 = arthritis[0, :]\n",
    "print(\"maximum inflammation for patient 0:\", patient_0.max())"
   ]
  },
  {
   "cell_type": "code",
   "execution_count": 24,
   "id": "3235e133-2a66-4e70-a435-857da27a37a8",
   "metadata": {},
   "outputs": [
    {
     "name": "stdout",
     "output_type": "stream",
     "text": [
      "maximum inflammation for pation 2: 19.0\n"
     ]
    }
   ],
   "source": [
    "print(\"maximum inflammation for pation 2:\", arthritis[2, :].max())"
   ]
  },
  {
   "cell_type": "code",
   "execution_count": 25,
   "id": "922abc61-92df-40ed-abd5-4ecdbe56003a",
   "metadata": {},
   "outputs": [
    {
     "name": "stdout",
     "output_type": "stream",
     "text": [
      "[18. 18. 19. 17. 17. 18. 17. 20. 17. 18. 18. 18. 17. 16. 17. 18. 19. 19.\n",
      " 17. 19. 19. 16. 17. 15. 17. 17. 18. 17. 20. 17. 16. 19. 15. 15. 19. 17.\n",
      " 16. 17. 19. 16. 18. 19. 16. 19. 18. 16. 19. 15. 16. 18. 14. 20. 17. 15.\n",
      " 17. 16. 17. 19. 18. 18.]\n"
     ]
    }
   ],
   "source": [
    "print(arthritis.max(axis=1))"
   ]
  },
  {
   "cell_type": "code",
   "execution_count": 26,
   "id": "bcdb5e75-65bc-4fec-85ee-baee71931253",
   "metadata": {},
   "outputs": [
    {
     "name": "stdout",
     "output_type": "stream",
     "text": [
      "[ 0.  1.  2.  3.  4.  5.  6.  7.  8.  9. 10. 11. 12. 13. 14. 15. 16. 17.\n",
      " 18. 19. 20. 19. 18. 17. 16. 15. 14. 13. 12. 11. 10.  9.  8.  7.  6.  5.\n",
      "  4.  3.  2.  1.]\n"
     ]
    }
   ],
   "source": [
    "print(arthritis.max(axis=0))"
   ]
  },
  {
   "cell_type": "code",
   "execution_count": 27,
   "id": "b032a73f-c59f-4cf4-a4f3-27e91ba8d3a3",
   "metadata": {},
   "outputs": [
    {
     "name": "stdout",
     "output_type": "stream",
     "text": [
      "(60,)\n",
      "(40,)\n"
     ]
    }
   ],
   "source": [
    "print(arthritis.max(axis=1).shape)\n",
    "print(arthritis.max(axis=0).shape)"
   ]
  },
  {
   "cell_type": "code",
   "execution_count": 28,
   "id": "d4709717-50b4-4f33-ba5f-0d3383ea12bd",
   "metadata": {},
   "outputs": [
    {
     "name": "stdout",
     "output_type": "stream",
     "text": [
      "the average of the standard deviation for all the patienst\n",
      "4.579294680644961\n"
     ]
    }
   ],
   "source": [
    "print(\"the average of the standard deviation for all the patienst\")\n",
    "print(arthritis.std(axis=1).mean())"
   ]
  },
  {
   "cell_type": "code",
   "execution_count": 29,
   "id": "d022f830-4396-4add-8c1f-ee57f858ce85",
   "metadata": {},
   "outputs": [
    {
     "data": {
      "text/plain": [
       "4.579294680644961"
      ]
     },
     "execution_count": 29,
     "metadata": {},
     "output_type": "execute_result"
    }
   ],
   "source": [
    "numpy.mean(numpy.std(arthritis, axis=1))"
   ]
  },
  {
   "cell_type": "code",
   "execution_count": null,
   "id": "69203062-a87c-41a3-848c-78ad5801571b",
   "metadata": {},
   "outputs": [],
   "source": []
  }
 ],
 "metadata": {
  "kernelspec": {
   "display_name": "Python 3 (ipykernel)",
   "language": "python",
   "name": "python3"
  },
  "language_info": {
   "codemirror_mode": {
    "name": "ipython",
    "version": 3
   },
   "file_extension": ".py",
   "mimetype": "text/x-python",
   "name": "python",
   "nbconvert_exporter": "python",
   "pygments_lexer": "ipython3",
   "version": "3.10.6"
  }
 },
 "nbformat": 4,
 "nbformat_minor": 5
}
